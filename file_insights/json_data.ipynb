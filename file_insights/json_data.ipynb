{
 "cells": [
  {
   "cell_type": "code",
   "execution_count": 22,
   "id": "f29091c2",
   "metadata": {},
   "outputs": [],
   "source": [
    "import os\n",
    "import json\n",
    "import csv\n",
    "from multiprocessing import Process\n",
    "import requests\n",
    "import pandas as pd"
   ]
  },
  {
   "cell_type": "code",
   "execution_count": 23,
   "id": "5af1f783",
   "metadata": {},
   "outputs": [],
   "source": [
    "def get_files(f1, f2):\n",
    "    with open(f1, 'r') as fp:\n",
    "        json_files = fp.readlines()\n",
    "    with open(f2, 'r') as fp:\n",
    "        error_files = fp.readlines()\n",
    "    json_list = ['index_json/' + f.strip() for f in json_files]\n",
    "    error_list = [f.strip() for f in error_files]\n",
    "    return json_list, error_list"
   ]
  },
  {
   "cell_type": "code",
   "execution_count": 24,
   "id": "7c8e5de1",
   "metadata": {},
   "outputs": [],
   "source": [
    "json_list, error_list = get_files('json_list.txt', 'Error_files.csv')"
   ]
  },
  {
   "cell_type": "code",
   "execution_count": 25,
   "id": "6daec162",
   "metadata": {},
   "outputs": [],
   "source": [
    "def create_json_data(rfile):\n",
    "    with open(rfile, 'r') as fp:\n",
    "        try:\n",
    "            data = json.loads(fp.read())\n",
    "        except ValueError as ve:\n",
    "            print('not able to open file: %s'%(rfile))\n",
    "            data = []\n",
    "        if len(data) !=  0:\n",
    "            reporting_data = data['reporting_structure']\n",
    "            for rpt_dict in reporting_data:\n",
    "                rpt_plan = rpt_dict['reporting_plans']\n",
    "                file_data = rpt_dict['in_network_files']\n",
    "                plan_id = [plan['plan_id'] for plan in rpt_plan]\n",
    "                yield file_data, plan_id\n",
    "                "
   ]
  },
  {
   "cell_type": "code",
   "execution_count": 26,
   "id": "2f54d7a1",
   "metadata": {},
   "outputs": [],
   "source": [
    "def process_file_data():\n",
    "    res = {}\n",
    "    throw = {}\n",
    "    count = 0\n",
    "    for file_data, plan_id in create_json_data('index_json/2022-07-24_HUMANA-INC-_index.json'):\n",
    "        for data in file_data:\n",
    "            file = data['location'].split('/')[4].split('=')[2]\n",
    "            if file in res:\n",
    "                res[file].extend(plan_id)\n",
    "                pid = set(res[file])\n",
    "                res[file] = [f for f in pid]\n",
    "            else:\n",
    "                res[file] = plan_id\n",
    "    return res"
   ]
  },
  {
   "cell_type": "code",
   "execution_count": 27,
   "id": "202b7d2e",
   "metadata": {},
   "outputs": [],
   "source": [
    "master_dict = process_file_data()"
   ]
  },
  {
   "cell_type": "code",
   "execution_count": 29,
   "id": "4bf05620",
   "metadata": {},
   "outputs": [],
   "source": [
    "def create_df_csv(master_dict):\n",
    "    df_dict = {}\n",
    "    df_dict['file'] = []\n",
    "    df_dict['plan_id'] = []\n",
    "    for file, plan_id in master_dict.items():\n",
    "        plan_id = (',').join(plan_id)\n",
    "        df_dict['file'].append(file)\n",
    "        df_dict['plan_id'].append(plan_id)\n",
    "    pd.DataFrame(df_dict).to_csv('json_data_3.csv')"
   ]
  },
  {
   "cell_type": "code",
   "execution_count": 30,
   "id": "110a4772",
   "metadata": {},
   "outputs": [],
   "source": [
    "def populate_master(json_list):\n",
    "    for file in json_list:\n",
    "        for file_data, plan_id in create_json_data(file):\n",
    "            for data in file_data:\n",
    "                file = data['location'].split('/')[4].split('=')[2]\n",
    "                if file in master_dict:\n",
    "                    master_dict[file].extend(plan_id)\n",
    "                    pid = set(master_dict[file])\n",
    "                    master_dict[file] = [f for f in pid]\n",
    "                else:\n",
    "                    master_dict[file] = plan_id\n",
    "    create_df_csv(master_dict)"
   ]
  },
  {
   "cell_type": "code",
   "execution_count": 31,
   "id": "b729fe3e",
   "metadata": {},
   "outputs": [
    {
     "name": "stdout",
     "output_type": "stream",
     "text": [
      "not able to open file: index_json/2022-07-24_CENTER-FOR-COSMETIC-AN_index.json\n"
     ]
    },
    {
     "ename": "KeyboardInterrupt",
     "evalue": "",
     "output_type": "error",
     "traceback": [
      "\u001b[0;31m---------------------------------------------------------------------------\u001b[0m",
      "\u001b[0;31mKeyboardInterrupt\u001b[0m                         Traceback (most recent call last)",
      "Input \u001b[0;32mIn [31]\u001b[0m, in \u001b[0;36m<cell line: 1>\u001b[0;34m()\u001b[0m\n\u001b[0;32m----> 1\u001b[0m \u001b[43mpopulate_master\u001b[49m\u001b[43m(\u001b[49m\u001b[43mjson_list\u001b[49m\u001b[43m)\u001b[49m\n",
      "Input \u001b[0;32mIn [30]\u001b[0m, in \u001b[0;36mpopulate_master\u001b[0;34m(json_list)\u001b[0m\n\u001b[1;32m      6\u001b[0m \u001b[38;5;28;01mif\u001b[39;00m file \u001b[38;5;129;01min\u001b[39;00m master_dict:\n\u001b[1;32m      7\u001b[0m     master_dict[file]\u001b[38;5;241m.\u001b[39mextend(plan_id)\n\u001b[0;32m----> 8\u001b[0m     pid \u001b[38;5;241m=\u001b[39m \u001b[38;5;28;43mset\u001b[39;49m\u001b[43m(\u001b[49m\u001b[43mmaster_dict\u001b[49m\u001b[43m[\u001b[49m\u001b[43mfile\u001b[49m\u001b[43m]\u001b[49m\u001b[43m)\u001b[49m\n\u001b[1;32m      9\u001b[0m     master_dict[file] \u001b[38;5;241m=\u001b[39m [f \u001b[38;5;28;01mfor\u001b[39;00m f \u001b[38;5;129;01min\u001b[39;00m pid]\n\u001b[1;32m     10\u001b[0m \u001b[38;5;28;01melse\u001b[39;00m:\n",
      "\u001b[0;31mKeyboardInterrupt\u001b[0m: "
     ]
    }
   ],
   "source": [
    "populate_master(json_list)"
   ]
  },
  {
   "cell_type": "code",
   "execution_count": 32,
   "id": "2765d6d5",
   "metadata": {},
   "outputs": [
    {
     "name": "stdout",
     "output_type": "stream",
     "text": [
      "422472\n"
     ]
    }
   ],
   "source": [
    "print(len(master_dict))"
   ]
  },
  {
   "cell_type": "code",
   "execution_count": 33,
   "id": "0eb25697",
   "metadata": {},
   "outputs": [],
   "source": [
    "create_df_csv(master_dict)"
   ]
  },
  {
   "cell_type": "code",
   "execution_count": null,
   "id": "0d5d2536",
   "metadata": {},
   "outputs": [],
   "source": []
  }
 ],
 "metadata": {
  "kernelspec": {
   "display_name": "Python 3 (ipykernel)",
   "language": "python",
   "name": "python3"
  },
  "language_info": {
   "codemirror_mode": {
    "name": "ipython",
    "version": 3
   },
   "file_extension": ".py",
   "mimetype": "text/x-python",
   "name": "python",
   "nbconvert_exporter": "python",
   "pygments_lexer": "ipython3",
   "version": "3.9.8"
  }
 },
 "nbformat": 4,
 "nbformat_minor": 5
}
